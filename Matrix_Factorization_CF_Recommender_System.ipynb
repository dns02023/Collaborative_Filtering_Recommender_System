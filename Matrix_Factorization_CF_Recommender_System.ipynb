{
 "cells": [
  {
   "cell_type": "code",
   "execution_count": 2,
   "metadata": {},
   "outputs": [
    {
     "data": {
      "text/plain": [
       "<module 'MF' from 'C:\\\\Users\\\\jaehun\\\\Desktop\\\\recommender_system\\\\MF.py'>"
      ]
     },
     "execution_count": 2,
     "metadata": {},
     "output_type": "execute_result"
    }
   ],
   "source": [
    "import numpy as np\n",
    "import pandas as pd\n",
    "import MF \n",
    "import importlib\n",
    "importlib.reload(MF)\n",
    "\n",
    "\n"
   ]
  },
  {
   "cell_type": "code",
   "execution_count": 3,
   "metadata": {},
   "outputs": [
    {
     "name": "stdout",
     "output_type": "stream",
     "text": [
      "   user_id  place_id  평점\n",
      "0     2522         4   5\n",
      "1     2522         5   2\n",
      "2     2522         6   5\n",
      "3     2522         8   5\n",
      "4     2522        10   4\n",
      "   user_id  place_id  평점\n",
      "0     2524         3   4\n",
      "1     2524        16   4\n",
      "2     2524        20   5\n",
      "3     2524        22   3\n",
      "4     2524        23   4\n",
      "   user_id         이름  평점\n",
      "0     2519      언니네반점   3\n",
      "1     2519       고른햇살   3\n",
      "2     2519     돈까스하우스   1\n",
      "3     2519  서울쌈냉면 고대점   5\n",
      "4     2519        용초수   4\n",
      "       맛집  평점  user_id  place_id\n",
      "0    고른햇살   4     2523         9\n",
      "1   미스터국밥   4     2523        13\n",
      "2   이세돈까스   3     2523        22\n",
      "3  매스플레이트   4     2523        49\n",
      "4    치폴레옹   5     2523       110\n",
      "          이름  평점  user_id\n",
      "0       우승식당   5     2520\n",
      "1  히포크라테스 스프   3     2520\n",
      "2     고대맛집ㅋㅋ   2     2520\n",
      "3       고른햇살   5     2520\n",
      "4        고품콩   4     2520\n"
     ]
    }
   ],
   "source": [
    "GT = pd.read_csv('기태.csv')\n",
    "HY = pd.read_csv('혜연.csv')\n",
    "EH = pd.read_excel('은하.xlsx')\n",
    "SB = pd.read_csv('수빈.csv')\n",
    "JH = pd.read_csv('정현.csv')\n",
    "\n",
    "print(GT.head())\n",
    "print(HY.head())\n",
    "print(EH.head())\n",
    "print(SB.head())\n",
    "print(JH.head())"
   ]
  },
  {
   "cell_type": "code",
   "execution_count": 4,
   "metadata": {},
   "outputs": [],
   "source": [
    "place_data = pd.read_csv('merged_place_data.csv')"
   ]
  },
  {
   "cell_type": "code",
   "execution_count": 5,
   "metadata": {},
   "outputs": [
    {
     "name": "stdout",
     "output_type": "stream",
     "text": [
      "      user_id  place_id   평점\n",
      "0           1         1  5.0\n",
      "1           2         1  5.0\n",
      "2           3         1  3.0\n",
      "3           4         1  4.0\n",
      "4           5         1  4.0\n",
      "...       ...       ...  ...\n",
      "6897     2253       407  5.0\n",
      "6898     2254       407  5.0\n",
      "6899     2409       408  5.0\n",
      "6900     2497       409  5.0\n",
      "6901     2499       410  5.0\n",
      "\n",
      "[6902 rows x 3 columns]\n"
     ]
    }
   ],
   "source": [
    "df = pd.read_csv('ratings.csv')\n",
    "r_df = df[['user_id', 'place_id', '평점']]\n",
    "print(r_df)"
   ]
  },
  {
   "cell_type": "code",
   "execution_count": 6,
   "metadata": {},
   "outputs": [
    {
     "name": "stdout",
     "output_type": "stream",
     "text": [
      "    user_id  place_id   평점\n",
      "0      2521        41  4.0\n",
      "1      2521        11  4.0\n",
      "2      2521        13  4.0\n",
      "3      2521         3  2.0\n",
      "4      2521        12  5.0\n",
      "5      2521        29  3.0\n",
      "6      2521        55  2.0\n",
      "7      2521       119  3.0\n",
      "8      2521        24  1.0\n",
      "9      2521        79  2.0\n",
      "10     2521       290  2.0\n",
      "11     2521       405  3.0\n",
      "12     2521       270  3.0\n",
      "13     2521       384  5.0\n",
      "14     2521        18  3.0\n",
      "15     2521       140  4.0\n",
      "16     2521       236  3.0\n",
      "17     2521        67  1.0\n",
      "18     2521       272  4.0\n",
      "19     2521        62  4.0\n",
      "20     2521       229  5.0\n",
      "21     2521       196  5.0\n",
      "22     2521         4  3.0\n",
      "23     2521        32  4.0\n"
     ]
    }
   ],
   "source": [
    "my_data = [[2521, 41, 4.0], [2521, 11, 4.0], [2521, 13, 4.0], [2521, 3, 2.0], \n",
    "        [2521, 12, 5.0], [2521, 29, 3.0], [2521, 55, 2.0], [2521, 119, 3.0], [2521, 24, 1.0],\n",
    "          [2521, 79, 2.0], [2521, 290, 2.0], [2521, 405, 3.0], [2521, 270, 3.0], [2521, 384, 5.0],\n",
    "          [2521, 18, 3.0], [2521, 140, 4.0], [2521, 236, 3.0], [2521, 67, 1.0], [2521, 272, 4.0],\n",
    "          [2521, 62, 4.0], [2521, 229, 5.0], [2521, 196, 5.0], [2521, 4, 3.0], [2521, 32, 4.0]]\n",
    "my_df = pd.DataFrame(my_data, columns=r_df.columns)\n",
    "print(my_df)"
   ]
  },
  {
   "cell_type": "code",
   "execution_count": 7,
   "metadata": {},
   "outputs": [
    {
     "name": "stdout",
     "output_type": "stream",
     "text": [
      "6925\n",
      "23\n",
      "23\n"
     ]
    }
   ],
   "source": [
    "temp1 = r_df.append(GT)\n",
    "print(len(temp1))\n",
    "print(len(temp1[temp1['user_id']==2522]))\n",
    "print(len(GT))"
   ]
  },
  {
   "cell_type": "code",
   "execution_count": 8,
   "metadata": {},
   "outputs": [
    {
     "name": "stdout",
     "output_type": "stream",
     "text": [
      "6945\n",
      "20\n",
      "20\n"
     ]
    }
   ],
   "source": [
    "temp2 = temp1.append(HY)\n",
    "print(len(temp2))\n",
    "print(len(temp2[temp2['user_id']==2524]))\n",
    "print(len(HY))"
   ]
  },
  {
   "cell_type": "code",
   "execution_count": 9,
   "metadata": {},
   "outputs": [
    {
     "name": "stdout",
     "output_type": "stream",
     "text": [
      "    user_id  place_id  평점\n",
      "0      2523         9   4\n",
      "1      2523        13   4\n",
      "2      2523        22   3\n",
      "3      2523        49   4\n",
      "4      2523       110   5\n",
      "5      2523       208   4\n",
      "6      2523       105   4\n",
      "7      2523        25   4\n",
      "8      2523        24   2\n",
      "9      2523       184   3\n",
      "10     2523        23   5\n",
      "11     2523       187   3\n",
      "12     2523       230   3\n",
      "13     2523       107   3\n",
      "14     2523        59   2\n",
      "15     2523        80   2\n",
      "16     2523        53   4\n",
      "17     2523       130   3\n",
      "18     2523       188   5\n",
      "19     2523        16   4\n",
      "20     2523        18   3\n",
      "21     2523        19   4\n"
     ]
    }
   ],
   "source": [
    "sb = SB[['user_id', 'place_id', '평점']]\n",
    "print(sb)"
   ]
  },
  {
   "cell_type": "code",
   "execution_count": 10,
   "metadata": {},
   "outputs": [
    {
     "name": "stdout",
     "output_type": "stream",
     "text": [
      "6967\n",
      "22\n",
      "22\n"
     ]
    }
   ],
   "source": [
    "temp3 = temp2.append(sb)\n",
    "print(len(temp3))\n",
    "print(len(temp3[temp3['user_id']==2523]))\n",
    "print(len(sb))"
   ]
  },
  {
   "cell_type": "code",
   "execution_count": 11,
   "metadata": {},
   "outputs": [
    {
     "name": "stdout",
     "output_type": "stream",
     "text": [
      "20\n",
      "20\n"
     ]
    }
   ],
   "source": [
    "eh = pd.merge(EH, place_data)\n",
    "print(len(EH))\n",
    "print(len(eh))"
   ]
  },
  {
   "cell_type": "code",
   "execution_count": 12,
   "metadata": {},
   "outputs": [
    {
     "name": "stdout",
     "output_type": "stream",
     "text": [
      "           이름  평점  user_id\n",
      "0        우승식당   5     2520\n",
      "1   히포크라테스 스프   3     2520\n",
      "2      고대맛집ㅋㅋ   2     2520\n",
      "3        고른햇살   5     2520\n",
      "4         고품콩   4     2520\n",
      "..        ...  ..      ...\n",
      "75      춘천닭갈비   3     2520\n",
      "76    사보텐 고대점   3     2520\n",
      "77  다돈 참숯화로구이   5     2520\n",
      "78  서울쌈냉면 고대점   4     2520\n",
      "79        용초수   5     2520\n",
      "\n",
      "[80 rows x 3 columns]\n"
     ]
    }
   ],
   "source": [
    "print(JH)"
   ]
  },
  {
   "cell_type": "code",
   "execution_count": 13,
   "metadata": {},
   "outputs": [
    {
     "name": "stdout",
     "output_type": "stream",
     "text": [
      "80\n",
      "78\n",
      "77\n"
     ]
    }
   ],
   "source": [
    "jh = pd.merge(JH, place_data)\n",
    "print(len(JH))\n",
    "print(len(jh))\n",
    "jh2 = jh.drop_duplicates(['place_id'], keep='first')\n",
    "print(len(jh2))"
   ]
  },
  {
   "cell_type": "code",
   "execution_count": 14,
   "metadata": {},
   "outputs": [],
   "source": [
    "eh2 = eh[['user_id', 'place_id', '평점']]\n",
    "jh3 = jh2[['user_id', 'place_id', '평점']]"
   ]
  },
  {
   "cell_type": "code",
   "execution_count": 15,
   "metadata": {},
   "outputs": [
    {
     "name": "stdout",
     "output_type": "stream",
     "text": [
      "7088\n"
     ]
    }
   ],
   "source": [
    "temp4 = temp3.append(eh2)\n",
    "temp5 = temp4.append(jh3)\n",
    "ratings_df = temp5.append(my_df)\n",
    "print(len(ratings_df))\n",
    "\n",
    "# undupl = ratings_df.groupby(['user_id', 'place_id'], as_index = False).mean()\n",
    "\n",
    "# print(undupl)\n",
    "# print(len(undupl['user_id'].unique()))"
   ]
  },
  {
   "cell_type": "code",
   "execution_count": 16,
   "metadata": {},
   "outputs": [
    {
     "name": "stdout",
     "output_type": "stream",
     "text": [
      "place_id  1.0    2.0    3.0    4.0    5.0    6.0    7.0    8.0    9.0    \\\n",
      "user_id                                                                   \n",
      "1           5.0    2.0    4.0    4.0    4.0    5.0    0.0    0.0    0.0   \n",
      "2           5.0    0.0    0.0    0.0    0.0    0.0    3.0    5.0    5.0   \n",
      "3           3.0    4.0    0.0    0.0    0.0    0.0    0.0    0.0    3.0   \n",
      "4           4.0    0.0    0.0    0.0    0.0    0.0    0.0    0.0    4.0   \n",
      "5           4.0    5.0    0.0    4.0    0.0    0.0    0.0    5.0    4.0   \n",
      "...         ...    ...    ...    ...    ...    ...    ...    ...    ...   \n",
      "2520        0.0    0.0    0.0    5.0    0.0    0.0    0.0    2.0    5.0   \n",
      "2521        0.0    0.0    2.0    3.0    0.0    0.0    0.0    0.0    0.0   \n",
      "2522        0.0    0.0    0.0    5.0    2.0    5.0    0.0    5.0    0.0   \n",
      "2523        0.0    0.0    0.0    0.0    0.0    0.0    0.0    0.0    4.0   \n",
      "2524        0.0    0.0    4.0    0.0    0.0    0.0    0.0    0.0    0.0   \n",
      "\n",
      "place_id  10.0   ...  401.0  402.0  403.0  404.0  405.0  406.0  407.0  408.0  \\\n",
      "user_id          ...                                                           \n",
      "1           0.0  ...    0.0    0.0    0.0    0.0    0.0    0.0    0.0    0.0   \n",
      "2           5.0  ...    0.0    0.0    0.0    0.0    0.0    0.0    0.0    0.0   \n",
      "3           0.0  ...    0.0    0.0    0.0    0.0    0.0    0.0    0.0    0.0   \n",
      "4           0.0  ...    0.0    0.0    0.0    0.0    0.0    0.0    0.0    0.0   \n",
      "5           5.0  ...    0.0    0.0    0.0    0.0    0.0    0.0    0.0    0.0   \n",
      "...         ...  ...    ...    ...    ...    ...    ...    ...    ...    ...   \n",
      "2520        4.0  ...    0.0    0.0    0.0    0.0    0.0    0.0    0.0    0.0   \n",
      "2521        0.0  ...    0.0    0.0    0.0    0.0    3.0    0.0    0.0    0.0   \n",
      "2522        4.0  ...    0.0    0.0    0.0    0.0    0.0    0.0    0.0    0.0   \n",
      "2523        0.0  ...    0.0    0.0    0.0    0.0    0.0    0.0    0.0    0.0   \n",
      "2524        0.0  ...    0.0    0.0    0.0    0.0    0.0    0.0    0.0    0.0   \n",
      "\n",
      "place_id  409.0  410.0  \n",
      "user_id                 \n",
      "1           0.0    0.0  \n",
      "2           0.0    0.0  \n",
      "3           0.0    0.0  \n",
      "4           0.0    0.0  \n",
      "5           0.0    0.0  \n",
      "...         ...    ...  \n",
      "2520        0.0    0.0  \n",
      "2521        0.0    0.0  \n",
      "2522        0.0    0.0  \n",
      "2523        0.0    0.0  \n",
      "2524        0.0    0.0  \n",
      "\n",
      "[2524 rows x 410 columns]\n"
     ]
    }
   ],
   "source": [
    "ratings = ratings_df.pivot(\n",
    "        index = 'user_id',\n",
    "        columns = 'place_id',\n",
    "        values = '평점'\n",
    "    ).fillna(0)\n",
    "print(ratings)"
   ]
  },
  {
   "cell_type": "code",
   "execution_count": 17,
   "metadata": {},
   "outputs": [
    {
     "name": "stdout",
     "output_type": "stream",
     "text": [
      "[[5. 2. 4. ... 0. 0. 0.]\n",
      " [5. 0. 0. ... 0. 0. 0.]\n",
      " [3. 4. 0. ... 0. 0. 0.]\n",
      " ...\n",
      " [0. 0. 0. ... 0. 0. 0.]\n",
      " [0. 0. 0. ... 0. 0. 0.]\n",
      " [0. 0. 4. ... 0. 0. 0.]]\n"
     ]
    }
   ],
   "source": [
    "matrix = ratings.values\n",
    "print(matrix)\n"
   ]
  },
  {
   "cell_type": "code",
   "execution_count": 18,
   "metadata": {},
   "outputs": [],
   "source": [
    "mf_model = MF.MatrixFactorization(matrix, k=10, learning_rate=0.05, reg_param=0.01, epochs=100)\n",
    "mf_model.fit()\n",
    "pred_matrix = mf_model.reconstruct()\n"
   ]
  },
  {
   "cell_type": "code",
   "execution_count": 19,
   "metadata": {},
   "outputs": [
    {
     "name": "stdout",
     "output_type": "stream",
     "text": [
      "[[ 4.89105712  2.02226298  3.92721437 ... -1.07662442  6.86388012\n",
      "   3.79394492]\n",
      " [ 4.76692092  4.37243701  3.67836603 ...  3.69448088  3.61219702\n",
      "   4.34831926]\n",
      " [ 2.98435973  3.9377702   3.9184347  ...  6.29553691  0.87262907\n",
      "   5.29544211]\n",
      " ...\n",
      " [ 5.0271846   2.05834876  2.59561109 ...  2.56654773  7.14626142\n",
      "   2.82115572]\n",
      " [ 5.25018064  3.17554692  1.96905527 ...  1.63180108  7.69859739\n",
      "   3.66491119]\n",
      " [ 3.99909499  4.31069377  3.78528879 ...  5.23481125  4.51488962\n",
      "   3.52333762]]\n",
      "(2524, 410)\n"
     ]
    }
   ],
   "source": [
    "print(pred_matrix)\n",
    "print(pred_matrix.shape)"
   ]
  },
  {
   "cell_type": "code",
   "execution_count": 20,
   "metadata": {},
   "outputs": [
    {
     "name": "stdout",
     "output_type": "stream",
     "text": [
      "                이름  place_id                                       태그  \\\n",
      "0             쭈불쭈불         1  #먹어야산다#한식#불고기#닭갈비#쭈꾸미#정대후문#혼밥#회식#저렴#가성비   \n",
      "1             쭈불쭈불         1  #먹어야산다#한식#불고기#닭갈비#쭈꾸미#정대후문#혼밥#회식#저렴#가성비   \n",
      "2             쭈불쭈불         1  #먹어야산다#한식#불고기#닭갈비#쭈꾸미#정대후문#혼밥#회식#저렴#가성비   \n",
      "3             쭈불쭈불         1  #먹어야산다#한식#불고기#닭갈비#쭈꾸미#정대후문#혼밥#회식#저렴#가성비   \n",
      "4             쭈불쭈불         1  #먹어야산다#한식#불고기#닭갈비#쭈꾸미#정대후문#혼밥#회식#저렴#가성비   \n",
      "...            ...       ...                                      ...   \n",
      "7083           제기집       407                   #먹어야산다#고대사거리#제기동#닭발#회식   \n",
      "7084           제기집       407                   #먹어야산다#고대사거리#제기동#닭발#회식   \n",
      "7085          테리키친       408                   #먹어야산다#파스타#리조또#피자#성신여대   \n",
      "7086           홍릉각       409                    #먹어야산다#중화요리#유니짜장#제기시장   \n",
      "7087  황박사 통마늘오리주물럭       410                  #먹어야산다#제기동#오리고기#통마늘#몸보신   \n",
      "\n",
      "      user_id   평점  \n",
      "0           1  5.0  \n",
      "1           2  5.0  \n",
      "2           3  3.0  \n",
      "3           4  4.0  \n",
      "4           5  4.0  \n",
      "...       ...  ...  \n",
      "7083     2253  5.0  \n",
      "7084     2254  5.0  \n",
      "7085     2409  5.0  \n",
      "7086     2497  5.0  \n",
      "7087     2499  5.0  \n",
      "\n",
      "[7088 rows x 5 columns]\n"
     ]
    }
   ],
   "source": [
    "rating_data = pd.merge(ratings_df, place_data)[['이름', 'place_id', '태그', 'user_id', '평점']]\n",
    "rating_data['place_id'] = rating_data['place_id'].astype(int)\n",
    "print(rating_data)"
   ]
  },
  {
   "cell_type": "code",
   "execution_count": 21,
   "metadata": {},
   "outputs": [],
   "source": [
    "target_user = rating_data[rating_data['user_id'] == 2519]"
   ]
  },
  {
   "cell_type": "code",
   "execution_count": 22,
   "metadata": {},
   "outputs": [
    {
     "name": "stdout",
     "output_type": "stream",
     "text": [
      "                      이름  place_id  \\\n",
      "150                언니네반점         3   \n",
      "975                 고른햇살         9   \n",
      "1151              돈까스하우스        11   \n",
      "1532           서울쌈냉면 고대점        16   \n",
      "1980                 용초수        20   \n",
      "2100          청년다방 고대안암점        23   \n",
      "2160          치즈를 사랑한 찜닭        25   \n",
      "2282               고래돈까스        29   \n",
      "2366                모이리타        31   \n",
      "2815                금룡짬뽕        42   \n",
      "2835            나정순할매쭈꾸미        44   \n",
      "3140  밀플랜비 (Meal Plan B)        55   \n",
      "3179              본샤브칼국수        57   \n",
      "3864                 찌개집        79   \n",
      "3889           철남 (정대후문)        80   \n",
      "3987                프로마치        83   \n",
      "4576                다손김밥       123   \n",
      "4895                 아미가       136   \n",
      "5342                  미뇽       167   \n",
      "5505               칠기마라탕       175   \n",
      "\n",
      "                                              태그  user_id   평점  \n",
      "150           #먹어야산다#중식#정대후문#사천식#혼밥#가성비#저렴#포장#회식     2519  3.0  \n",
      "975                     #먹어야산다#분식#정대후문#포장#혼밥#가성비     2519  3.0  \n",
      "1151            #먹어야산다#경양식#돈까스#정대후문#포장#혼밥#가성비#돈하     2519  1.0  \n",
      "1532              #먹어야산다#한식#냉면#정대후문#포장#혼밥#저렴#가성비     2519  5.0  \n",
      "1980              #먹어야산다#중식#사천식#꿔바로우#정대후문#포장#가성비     2519  4.0  \n",
      "2100         #먹어야산다#참살이길#끝쪽#안암로터리#분식#퓨전#떡볶이#감자튀김     2519  3.0  \n",
      "2160                        #먹어야산다#한식#찜닭#정대후문#포장     2519  5.0  \n",
      "2282              #먹어야산다#일식#돈까스#정문앞#포장#혼밥#회식#가성비     2519  1.0  \n",
      "2366       #먹어야산다#양식#파스타#리조또#피자#참살이길#데이트#회식#모이리따     2519  5.0  \n",
      "2815        #먹어야산다#중식#중화요리#짜장면#짬뽕#탕수육#참살이길#포장#혼밥     2519  4.0  \n",
      "2835                        #먹어야산다#쭈꾸미#이공계#안암로터리     2519  2.0  \n",
      "3140            #먹어야산다#정대후문#멕시칸#부리또#핫도그#혼밥#저렴#포장     2519  3.0  \n",
      "3179            #먹어야산다#참살이길#한식#버섯칼국수#샤브샤브#혼밥#가성비     2519  3.0  \n",
      "3864              #먹어야산다#한식#백반#김치찌개#참살이길#뒷살이길#회식     2519  4.0  \n",
      "3889                 #먹어야산다#한식#두루치기#정대후문#회식#철판남매     2519  5.0  \n",
      "3987  #먹어야산다#양식#다이어트#샌드위치#샐러드#수프#참살이길#옆살이길#혼밥#포장     2519  5.0  \n",
      "4576                  #먹어야산다#분식#김밥#수제비#정문앞#포장#혼밥     2519  4.0  \n",
      "4895                     #먹어야산다#한식#백반#법대후문#포장#혼밥     2519  5.0  \n",
      "5342                        #먹어야산다#양식#제기동#브런치#감성     2519  4.0  \n",
      "5505           #먹어야산다#중식#마라탕#마라샹궈#정문앞#꿔바로우#포장#혼밥     2519  5.0  \n"
     ]
    }
   ],
   "source": [
    "print(target_user)"
   ]
  },
  {
   "cell_type": "code",
   "execution_count": 23,
   "metadata": {},
   "outputs": [],
   "source": [
    "def predict_rating(user_id, place_id):\n",
    "    return pred_matrix[user_id - 1][place_id - 1]"
   ]
  },
  {
   "cell_type": "code",
   "execution_count": 24,
   "metadata": {},
   "outputs": [
    {
     "name": "stderr",
     "output_type": "stream",
     "text": [
      "c:\\users\\jaehun\\appdata\\local\\programs\\python\\python37\\lib\\site-packages\\ipykernel_launcher.py:1: SettingWithCopyWarning: \n",
      "A value is trying to be set on a copy of a slice from a DataFrame.\n",
      "Try using .loc[row_indexer,col_indexer] = value instead\n",
      "\n",
      "See the caveats in the documentation: https://pandas.pydata.org/pandas-docs/stable/user_guide/indexing.html#returning-a-view-versus-a-copy\n",
      "  \"\"\"Entry point for launching an IPython kernel.\n"
     ]
    },
    {
     "data": {
      "text/html": [
       "<div>\n",
       "<style scoped>\n",
       "    .dataframe tbody tr th:only-of-type {\n",
       "        vertical-align: middle;\n",
       "    }\n",
       "\n",
       "    .dataframe tbody tr th {\n",
       "        vertical-align: top;\n",
       "    }\n",
       "\n",
       "    .dataframe thead th {\n",
       "        text-align: right;\n",
       "    }\n",
       "</style>\n",
       "<table border=\"1\" class=\"dataframe\">\n",
       "  <thead>\n",
       "    <tr style=\"text-align: right;\">\n",
       "      <th></th>\n",
       "      <th>이름</th>\n",
       "      <th>place_id</th>\n",
       "      <th>태그</th>\n",
       "      <th>user_id</th>\n",
       "      <th>평점</th>\n",
       "      <th>예상평점</th>\n",
       "    </tr>\n",
       "  </thead>\n",
       "  <tbody>\n",
       "    <tr>\n",
       "      <th>5505</th>\n",
       "      <td>칠기마라탕</td>\n",
       "      <td>175</td>\n",
       "      <td>#먹어야산다#중식#마라탕#마라샹궈#정문앞#꿔바로우#포장#혼밥</td>\n",
       "      <td>2519</td>\n",
       "      <td>5.0</td>\n",
       "      <td>5.029259</td>\n",
       "    </tr>\n",
       "    <tr>\n",
       "      <th>1532</th>\n",
       "      <td>서울쌈냉면 고대점</td>\n",
       "      <td>16</td>\n",
       "      <td>#먹어야산다#한식#냉면#정대후문#포장#혼밥#저렴#가성비</td>\n",
       "      <td>2519</td>\n",
       "      <td>5.0</td>\n",
       "      <td>4.985772</td>\n",
       "    </tr>\n",
       "    <tr>\n",
       "      <th>4895</th>\n",
       "      <td>아미가</td>\n",
       "      <td>136</td>\n",
       "      <td>#먹어야산다#한식#백반#법대후문#포장#혼밥</td>\n",
       "      <td>2519</td>\n",
       "      <td>5.0</td>\n",
       "      <td>4.995985</td>\n",
       "    </tr>\n",
       "    <tr>\n",
       "      <th>2160</th>\n",
       "      <td>치즈를 사랑한 찜닭</td>\n",
       "      <td>25</td>\n",
       "      <td>#먹어야산다#한식#찜닭#정대후문#포장</td>\n",
       "      <td>2519</td>\n",
       "      <td>5.0</td>\n",
       "      <td>4.959824</td>\n",
       "    </tr>\n",
       "    <tr>\n",
       "      <th>2366</th>\n",
       "      <td>모이리타</td>\n",
       "      <td>31</td>\n",
       "      <td>#먹어야산다#양식#파스타#리조또#피자#참살이길#데이트#회식#모이리따</td>\n",
       "      <td>2519</td>\n",
       "      <td>5.0</td>\n",
       "      <td>5.046308</td>\n",
       "    </tr>\n",
       "    <tr>\n",
       "      <th>3987</th>\n",
       "      <td>프로마치</td>\n",
       "      <td>83</td>\n",
       "      <td>#먹어야산다#양식#다이어트#샌드위치#샐러드#수프#참살이길#옆살이길#혼밥#포장</td>\n",
       "      <td>2519</td>\n",
       "      <td>5.0</td>\n",
       "      <td>4.956165</td>\n",
       "    </tr>\n",
       "    <tr>\n",
       "      <th>3889</th>\n",
       "      <td>철남 (정대후문)</td>\n",
       "      <td>80</td>\n",
       "      <td>#먹어야산다#한식#두루치기#정대후문#회식#철판남매</td>\n",
       "      <td>2519</td>\n",
       "      <td>5.0</td>\n",
       "      <td>5.001062</td>\n",
       "    </tr>\n",
       "    <tr>\n",
       "      <th>3864</th>\n",
       "      <td>찌개집</td>\n",
       "      <td>79</td>\n",
       "      <td>#먹어야산다#한식#백반#김치찌개#참살이길#뒷살이길#회식</td>\n",
       "      <td>2519</td>\n",
       "      <td>4.0</td>\n",
       "      <td>3.997893</td>\n",
       "    </tr>\n",
       "    <tr>\n",
       "      <th>5342</th>\n",
       "      <td>미뇽</td>\n",
       "      <td>167</td>\n",
       "      <td>#먹어야산다#양식#제기동#브런치#감성</td>\n",
       "      <td>2519</td>\n",
       "      <td>4.0</td>\n",
       "      <td>4.002363</td>\n",
       "    </tr>\n",
       "    <tr>\n",
       "      <th>1980</th>\n",
       "      <td>용초수</td>\n",
       "      <td>20</td>\n",
       "      <td>#먹어야산다#중식#사천식#꿔바로우#정대후문#포장#가성비</td>\n",
       "      <td>2519</td>\n",
       "      <td>4.0</td>\n",
       "      <td>4.029352</td>\n",
       "    </tr>\n",
       "    <tr>\n",
       "      <th>4576</th>\n",
       "      <td>다손김밥</td>\n",
       "      <td>123</td>\n",
       "      <td>#먹어야산다#분식#김밥#수제비#정문앞#포장#혼밥</td>\n",
       "      <td>2519</td>\n",
       "      <td>4.0</td>\n",
       "      <td>3.997371</td>\n",
       "    </tr>\n",
       "    <tr>\n",
       "      <th>2815</th>\n",
       "      <td>금룡짬뽕</td>\n",
       "      <td>42</td>\n",
       "      <td>#먹어야산다#중식#중화요리#짜장면#짬뽕#탕수육#참살이길#포장#혼밥</td>\n",
       "      <td>2519</td>\n",
       "      <td>4.0</td>\n",
       "      <td>4.014901</td>\n",
       "    </tr>\n",
       "    <tr>\n",
       "      <th>150</th>\n",
       "      <td>언니네반점</td>\n",
       "      <td>3</td>\n",
       "      <td>#먹어야산다#중식#정대후문#사천식#혼밥#가성비#저렴#포장#회식</td>\n",
       "      <td>2519</td>\n",
       "      <td>3.0</td>\n",
       "      <td>3.141734</td>\n",
       "    </tr>\n",
       "    <tr>\n",
       "      <th>3179</th>\n",
       "      <td>본샤브칼국수</td>\n",
       "      <td>57</td>\n",
       "      <td>#먹어야산다#참살이길#한식#버섯칼국수#샤브샤브#혼밥#가성비</td>\n",
       "      <td>2519</td>\n",
       "      <td>3.0</td>\n",
       "      <td>3.043778</td>\n",
       "    </tr>\n",
       "    <tr>\n",
       "      <th>3140</th>\n",
       "      <td>밀플랜비 (Meal Plan B)</td>\n",
       "      <td>55</td>\n",
       "      <td>#먹어야산다#정대후문#멕시칸#부리또#핫도그#혼밥#저렴#포장</td>\n",
       "      <td>2519</td>\n",
       "      <td>3.0</td>\n",
       "      <td>3.090662</td>\n",
       "    </tr>\n",
       "    <tr>\n",
       "      <th>975</th>\n",
       "      <td>고른햇살</td>\n",
       "      <td>9</td>\n",
       "      <td>#먹어야산다#분식#정대후문#포장#혼밥#가성비</td>\n",
       "      <td>2519</td>\n",
       "      <td>3.0</td>\n",
       "      <td>3.194537</td>\n",
       "    </tr>\n",
       "    <tr>\n",
       "      <th>2100</th>\n",
       "      <td>청년다방 고대안암점</td>\n",
       "      <td>23</td>\n",
       "      <td>#먹어야산다#참살이길#끝쪽#안암로터리#분식#퓨전#떡볶이#감자튀김</td>\n",
       "      <td>2519</td>\n",
       "      <td>3.0</td>\n",
       "      <td>3.009049</td>\n",
       "    </tr>\n",
       "    <tr>\n",
       "      <th>2835</th>\n",
       "      <td>나정순할매쭈꾸미</td>\n",
       "      <td>44</td>\n",
       "      <td>#먹어야산다#쭈꾸미#이공계#안암로터리</td>\n",
       "      <td>2519</td>\n",
       "      <td>2.0</td>\n",
       "      <td>2.036964</td>\n",
       "    </tr>\n",
       "    <tr>\n",
       "      <th>2282</th>\n",
       "      <td>고래돈까스</td>\n",
       "      <td>29</td>\n",
       "      <td>#먹어야산다#일식#돈까스#정문앞#포장#혼밥#회식#가성비</td>\n",
       "      <td>2519</td>\n",
       "      <td>1.0</td>\n",
       "      <td>1.004242</td>\n",
       "    </tr>\n",
       "    <tr>\n",
       "      <th>1151</th>\n",
       "      <td>돈까스하우스</td>\n",
       "      <td>11</td>\n",
       "      <td>#먹어야산다#경양식#돈까스#정대후문#포장#혼밥#가성비#돈하</td>\n",
       "      <td>2519</td>\n",
       "      <td>1.0</td>\n",
       "      <td>1.208941</td>\n",
       "    </tr>\n",
       "  </tbody>\n",
       "</table>\n",
       "</div>"
      ],
      "text/plain": [
       "                      이름  place_id  \\\n",
       "5505               칠기마라탕       175   \n",
       "1532           서울쌈냉면 고대점        16   \n",
       "4895                 아미가       136   \n",
       "2160          치즈를 사랑한 찜닭        25   \n",
       "2366                모이리타        31   \n",
       "3987                프로마치        83   \n",
       "3889           철남 (정대후문)        80   \n",
       "3864                 찌개집        79   \n",
       "5342                  미뇽       167   \n",
       "1980                 용초수        20   \n",
       "4576                다손김밥       123   \n",
       "2815                금룡짬뽕        42   \n",
       "150                언니네반점         3   \n",
       "3179              본샤브칼국수        57   \n",
       "3140  밀플랜비 (Meal Plan B)        55   \n",
       "975                 고른햇살         9   \n",
       "2100          청년다방 고대안암점        23   \n",
       "2835            나정순할매쭈꾸미        44   \n",
       "2282               고래돈까스        29   \n",
       "1151              돈까스하우스        11   \n",
       "\n",
       "                                              태그  user_id   평점      예상평점  \n",
       "5505           #먹어야산다#중식#마라탕#마라샹궈#정문앞#꿔바로우#포장#혼밥     2519  5.0  5.029259  \n",
       "1532              #먹어야산다#한식#냉면#정대후문#포장#혼밥#저렴#가성비     2519  5.0  4.985772  \n",
       "4895                     #먹어야산다#한식#백반#법대후문#포장#혼밥     2519  5.0  4.995985  \n",
       "2160                        #먹어야산다#한식#찜닭#정대후문#포장     2519  5.0  4.959824  \n",
       "2366       #먹어야산다#양식#파스타#리조또#피자#참살이길#데이트#회식#모이리따     2519  5.0  5.046308  \n",
       "3987  #먹어야산다#양식#다이어트#샌드위치#샐러드#수프#참살이길#옆살이길#혼밥#포장     2519  5.0  4.956165  \n",
       "3889                 #먹어야산다#한식#두루치기#정대후문#회식#철판남매     2519  5.0  5.001062  \n",
       "3864              #먹어야산다#한식#백반#김치찌개#참살이길#뒷살이길#회식     2519  4.0  3.997893  \n",
       "5342                        #먹어야산다#양식#제기동#브런치#감성     2519  4.0  4.002363  \n",
       "1980              #먹어야산다#중식#사천식#꿔바로우#정대후문#포장#가성비     2519  4.0  4.029352  \n",
       "4576                  #먹어야산다#분식#김밥#수제비#정문앞#포장#혼밥     2519  4.0  3.997371  \n",
       "2815        #먹어야산다#중식#중화요리#짜장면#짬뽕#탕수육#참살이길#포장#혼밥     2519  4.0  4.014901  \n",
       "150           #먹어야산다#중식#정대후문#사천식#혼밥#가성비#저렴#포장#회식     2519  3.0  3.141734  \n",
       "3179            #먹어야산다#참살이길#한식#버섯칼국수#샤브샤브#혼밥#가성비     2519  3.0  3.043778  \n",
       "3140            #먹어야산다#정대후문#멕시칸#부리또#핫도그#혼밥#저렴#포장     2519  3.0  3.090662  \n",
       "975                     #먹어야산다#분식#정대후문#포장#혼밥#가성비     2519  3.0  3.194537  \n",
       "2100         #먹어야산다#참살이길#끝쪽#안암로터리#분식#퓨전#떡볶이#감자튀김     2519  3.0  3.009049  \n",
       "2835                        #먹어야산다#쭈꾸미#이공계#안암로터리     2519  2.0  2.036964  \n",
       "2282              #먹어야산다#일식#돈까스#정문앞#포장#혼밥#회식#가성비     2519  1.0  1.004242  \n",
       "1151            #먹어야산다#경양식#돈까스#정대후문#포장#혼밥#가성비#돈하     2519  1.0  1.208941  "
      ]
     },
     "execution_count": 24,
     "metadata": {},
     "output_type": "execute_result"
    }
   ],
   "source": [
    "target_user['예상평점'] = target_user.apply(lambda x : predict_rating(2519, x['place_id']), axis=1)\n",
    "target_user.sort_values(by='평점', ascending=False)"
   ]
  },
  {
   "cell_type": "code",
   "execution_count": 25,
   "metadata": {},
   "outputs": [
    {
     "data": {
      "text/html": [
       "<div>\n",
       "<style scoped>\n",
       "    .dataframe tbody tr th:only-of-type {\n",
       "        vertical-align: middle;\n",
       "    }\n",
       "\n",
       "    .dataframe tbody tr th {\n",
       "        vertical-align: top;\n",
       "    }\n",
       "\n",
       "    .dataframe thead th {\n",
       "        text-align: right;\n",
       "    }\n",
       "</style>\n",
       "<table border=\"1\" class=\"dataframe\">\n",
       "  <thead>\n",
       "    <tr style=\"text-align: right;\">\n",
       "      <th></th>\n",
       "      <th>이름</th>\n",
       "      <th>place_id</th>\n",
       "      <th>태그</th>\n",
       "      <th>예상평점</th>\n",
       "    </tr>\n",
       "  </thead>\n",
       "  <tbody>\n",
       "    <tr>\n",
       "      <th>6168</th>\n",
       "      <td>고대사랑 엄나무</td>\n",
       "      <td>233</td>\n",
       "      <td>#먹어야산다#한식#곰탕#설렁탕#백반#정문앞#혼밥#저렴</td>\n",
       "      <td>11.840355</td>\n",
       "    </tr>\n",
       "    <tr>\n",
       "      <th>5067</th>\n",
       "      <td>철든돼지</td>\n",
       "      <td>152</td>\n",
       "      <td>#먹어야산다#법후#배달#삼겹살#불고기#도시락</td>\n",
       "      <td>11.492637</td>\n",
       "    </tr>\n",
       "    <tr>\n",
       "      <th>7082</th>\n",
       "      <td>종암골 생고기</td>\n",
       "      <td>406</td>\n",
       "      <td>#먹어야산다#고기#소주#한식#백반#정문앞#고려대역#포장#회식</td>\n",
       "      <td>10.159859</td>\n",
       "    </tr>\n",
       "    <tr>\n",
       "      <th>7085</th>\n",
       "      <td>테리키친</td>\n",
       "      <td>408</td>\n",
       "      <td>#먹어야산다#파스타#리조또#피자#성신여대</td>\n",
       "      <td>9.263930</td>\n",
       "    </tr>\n",
       "    <tr>\n",
       "      <th>2210</th>\n",
       "      <td>한솥도시락 고대안암점</td>\n",
       "      <td>27</td>\n",
       "      <td>#먹어야산다#도시락#정대후문#배달#포장#혼밥</td>\n",
       "      <td>9.019125</td>\n",
       "    </tr>\n",
       "    <tr>\n",
       "      <th>7016</th>\n",
       "      <td>거북이식당</td>\n",
       "      <td>361</td>\n",
       "      <td>#먹어야산다#한식#기사식당#백반집#제기동#고대사거리</td>\n",
       "      <td>8.880273</td>\n",
       "    </tr>\n",
       "    <tr>\n",
       "      <th>267</th>\n",
       "      <td>¸¾½ºÅÍÄ¡ Å¸ÀÌ°ÅÇÃ¶óÀÚ</td>\n",
       "      <td>7</td>\n",
       "      <td>#¸Ô¾î¾ß»ê´Ù#ÇÜ¹ö°Å#±³³»#Æ÷Àå#È¥¹ä</td>\n",
       "      <td>8.152152</td>\n",
       "    </tr>\n",
       "    <tr>\n",
       "      <th>7011</th>\n",
       "      <td>포몬스</td>\n",
       "      <td>359</td>\n",
       "      <td>#먹어야산다#동남아#쌀국수#참살이길#배달#포장#혼밥</td>\n",
       "      <td>8.043826</td>\n",
       "    </tr>\n",
       "    <tr>\n",
       "      <th>6985</th>\n",
       "      <td>예손</td>\n",
       "      <td>349</td>\n",
       "      <td>#먹어야산다#한식#백반#혼밥#화정체육관</td>\n",
       "      <td>7.828417</td>\n",
       "    </tr>\n",
       "    <tr>\n",
       "      <th>5250</th>\n",
       "      <td>산학관 학생식당</td>\n",
       "      <td>161</td>\n",
       "      <td>#먹어야산다</td>\n",
       "      <td>7.784651</td>\n",
       "    </tr>\n",
       "    <tr>\n",
       "      <th>6412</th>\n",
       "      <td>마마돈가스</td>\n",
       "      <td>257</td>\n",
       "      <td>#먹어야산다#법대후문#고려대역#일식#분식#돈까스#혼밥</td>\n",
       "      <td>7.694719</td>\n",
       "    </tr>\n",
       "    <tr>\n",
       "      <th>6897</th>\n",
       "      <td>종구네통닭</td>\n",
       "      <td>325</td>\n",
       "      <td>#먹어야산다#치킨#청량리역</td>\n",
       "      <td>7.645773</td>\n",
       "    </tr>\n",
       "    <tr>\n",
       "      <th>6164</th>\n",
       "      <td>.</td>\n",
       "      <td>232</td>\n",
       "      <td>#먹어야산다#신마라탕페이지로가주세요</td>\n",
       "      <td>7.645468</td>\n",
       "    </tr>\n",
       "    <tr>\n",
       "      <th>6530</th>\n",
       "      <td>신포1971 안암점</td>\n",
       "      <td>271</td>\n",
       "      <td>#먹어야산다#한식#퓨전#쫄면#만두#참살이길#포장#혼밥</td>\n",
       "      <td>7.327250</td>\n",
       "    </tr>\n",
       "    <tr>\n",
       "      <th>4181</th>\n",
       "      <td>두끼떡볶이 고대점</td>\n",
       "      <td>96</td>\n",
       "      <td>#먹어야산다#분식#참살이길#포장</td>\n",
       "      <td>7.320807</td>\n",
       "    </tr>\n",
       "    <tr>\n",
       "      <th>7049</th>\n",
       "      <td>하루</td>\n",
       "      <td>386</td>\n",
       "      <td>#먹어야산다#종암동#스시#초밥#사시미#이자까야</td>\n",
       "      <td>7.201654</td>\n",
       "    </tr>\n",
       "    <tr>\n",
       "      <th>6594</th>\n",
       "      <td>옥당골</td>\n",
       "      <td>277</td>\n",
       "      <td>#먹어야산다#한식#백반#오리#백숙#삼계탕#법대후문#포장#혼밥</td>\n",
       "      <td>7.131700</td>\n",
       "    </tr>\n",
       "    <tr>\n",
       "      <th>7036</th>\n",
       "      <td>로라방앗간</td>\n",
       "      <td>375</td>\n",
       "      <td>#먹어야산다#떡볶이#납작만두#튀김</td>\n",
       "      <td>6.950818</td>\n",
       "    </tr>\n",
       "    <tr>\n",
       "      <th>6787</th>\n",
       "      <td>샐러데이</td>\n",
       "      <td>300</td>\n",
       "      <td>#먹어야산다#다이어트#샐러드#정대후문#테이크아웃</td>\n",
       "      <td>6.915154</td>\n",
       "    </tr>\n",
       "    <tr>\n",
       "      <th>6993</th>\n",
       "      <td>통큰두마리찜닭 성신여대점</td>\n",
       "      <td>352</td>\n",
       "      <td>#먹어야산다#찜닭#배달#한식#성신여대</td>\n",
       "      <td>6.877507</td>\n",
       "    </tr>\n",
       "  </tbody>\n",
       "</table>\n",
       "</div>"
      ],
      "text/plain": [
       "                         이름  place_id                                 태그  \\\n",
       "6168               고대사랑 엄나무       233      #먹어야산다#한식#곰탕#설렁탕#백반#정문앞#혼밥#저렴   \n",
       "5067                   철든돼지       152           #먹어야산다#법후#배달#삼겹살#불고기#도시락   \n",
       "7082                종암골 생고기       406  #먹어야산다#고기#소주#한식#백반#정문앞#고려대역#포장#회식   \n",
       "7085                   테리키친       408             #먹어야산다#파스타#리조또#피자#성신여대   \n",
       "2210            한솥도시락 고대안암점        27           #먹어야산다#도시락#정대후문#배달#포장#혼밥   \n",
       "7016                  거북이식당       361       #먹어야산다#한식#기사식당#백반집#제기동#고대사거리   \n",
       "267   ¸¾½ºÅÍÄ¡ Å¸ÀÌ°ÅÇÃ¶óÀÚ         7  #¸Ô¾î¾ß»ê´Ù#ÇÜ¹ö°Å#±³³»#Æ÷Àå#È¥¹ä   \n",
       "7011                    포몬스       359       #먹어야산다#동남아#쌀국수#참살이길#배달#포장#혼밥   \n",
       "6985                     예손       349              #먹어야산다#한식#백반#혼밥#화정체육관   \n",
       "5250               산학관 학생식당       161                             #먹어야산다   \n",
       "6412                  마마돈가스       257      #먹어야산다#법대후문#고려대역#일식#분식#돈까스#혼밥   \n",
       "6897                  종구네통닭       325                     #먹어야산다#치킨#청량리역   \n",
       "6164                      .       232                #먹어야산다#신마라탕페이지로가주세요   \n",
       "6530             신포1971 안암점       271      #먹어야산다#한식#퓨전#쫄면#만두#참살이길#포장#혼밥   \n",
       "4181              두끼떡볶이 고대점        96                  #먹어야산다#분식#참살이길#포장   \n",
       "7049                     하루       386          #먹어야산다#종암동#스시#초밥#사시미#이자까야   \n",
       "6594                    옥당골       277  #먹어야산다#한식#백반#오리#백숙#삼계탕#법대후문#포장#혼밥   \n",
       "7036                  로라방앗간       375                 #먹어야산다#떡볶이#납작만두#튀김   \n",
       "6787                   샐러데이       300         #먹어야산다#다이어트#샐러드#정대후문#테이크아웃   \n",
       "6993          통큰두마리찜닭 성신여대점       352               #먹어야산다#찜닭#배달#한식#성신여대   \n",
       "\n",
       "           예상평점  \n",
       "6168  11.840355  \n",
       "5067  11.492637  \n",
       "7082  10.159859  \n",
       "7085   9.263930  \n",
       "2210   9.019125  \n",
       "7016   8.880273  \n",
       "267    8.152152  \n",
       "7011   8.043826  \n",
       "6985   7.828417  \n",
       "5250   7.784651  \n",
       "6412   7.694719  \n",
       "6897   7.645773  \n",
       "6164   7.645468  \n",
       "6530   7.327250  \n",
       "4181   7.320807  \n",
       "7049   7.201654  \n",
       "6594   7.131700  \n",
       "7036   6.950818  \n",
       "6787   6.915154  \n",
       "6993   6.877507  "
      ]
     },
     "execution_count": 25,
     "metadata": {},
     "output_type": "execute_result"
    }
   ],
   "source": [
    "recommendations = rating_data[rating_data['place_id'].isin(target_user['place_id']) == False][['이름', 'place_id', '태그']].drop_duplicates()\n",
    "recommendations['예상평점'] = recommendations.apply(lambda x: predict_rating(2519, x['place_id']), axis=1)\n",
    "recommendations.sort_values(by='예상평점', ascending=False).head(20)\n"
   ]
  },
  {
   "cell_type": "code",
   "execution_count": null,
   "metadata": {},
   "outputs": [],
   "source": []
  }
 ],
 "metadata": {
  "kernelspec": {
   "display_name": "Python 3",
   "language": "python",
   "name": "python3"
  },
  "language_info": {
   "codemirror_mode": {
    "name": "ipython",
    "version": 3
   },
   "file_extension": ".py",
   "mimetype": "text/x-python",
   "name": "python",
   "nbconvert_exporter": "python",
   "pygments_lexer": "ipython3",
   "version": "3.7.7"
  }
 },
 "nbformat": 4,
 "nbformat_minor": 4
}
